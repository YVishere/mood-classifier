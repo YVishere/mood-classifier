{
 "cells": [
  {
   "cell_type": "code",
   "execution_count": 1,
   "metadata": {},
   "outputs": [],
   "source": [
    "import numpy as np\n",
    "import scipy.io as si"
   ]
  },
  {
   "cell_type": "code",
   "execution_count": 2,
   "metadata": {},
   "outputs": [],
   "source": [
    "data = si.loadmat('face_emotion_data.mat')"
   ]
  },
  {
   "cell_type": "code",
   "execution_count": 3,
   "metadata": {},
   "outputs": [],
   "source": [
    "y = data['y']\n",
    "X = data['X']"
   ]
  },
  {
   "cell_type": "code",
   "execution_count": 4,
   "metadata": {},
   "outputs": [
    {
     "data": {
      "text/plain": [
       "array([[ 0.94366942],\n",
       "       [ 0.21373778],\n",
       "       [ 0.26641775],\n",
       "       [-0.39221373],\n",
       "       [-0.00538552],\n",
       "       [-0.01764687],\n",
       "       [-0.16632809],\n",
       "       [-0.0822838 ],\n",
       "       [-0.16644364]])"
      ]
     },
     "execution_count": 4,
     "metadata": {},
     "output_type": "execute_result"
    }
   ],
   "source": [
    "toInv = X.T @ X\n",
    "inv = np.linalg.inv(toInv)\n",
    "what = inv @ X.T @ y\n",
    "what"
   ]
  },
  {
   "cell_type": "code",
   "execution_count": 5,
   "metadata": {},
   "outputs": [
    {
     "data": {
      "text/plain": [
       "2.34375"
      ]
     },
     "execution_count": 5,
     "metadata": {},
     "output_type": "execute_result"
    }
   ],
   "source": [
    "y9 = np.sign(X @ what)\n",
    "numInc9 = 0\n",
    "for i in range(len(y)):\n",
    "    if y9[i] != y[i]:\n",
    "        numInc9 += 1\n",
    "\n",
    "perInc9 = numInc9 *100 / len(y)\n",
    "perInc9"
   ]
  },
  {
   "cell_type": "code",
   "execution_count": 6,
   "metadata": {},
   "outputs": [
    {
     "data": {
      "text/plain": [
       "(128, 3)"
      ]
     },
     "execution_count": 6,
     "metadata": {},
     "output_type": "execute_result"
    }
   ],
   "source": [
    "nX = np.hstack((X[:,0].reshape(-1,1), X[:,2].reshape(-1,1), X[:,3].reshape(-1,1)))\n",
    "nX.shape"
   ]
  },
  {
   "cell_type": "code",
   "execution_count": 7,
   "metadata": {},
   "outputs": [
    {
     "data": {
      "text/plain": [
       "array([[ 0.70546316],\n",
       "       [ 0.8737872 ],\n",
       "       [-0.78805643]])"
      ]
     },
     "execution_count": 7,
     "metadata": {},
     "output_type": "execute_result"
    }
   ],
   "source": [
    "toInv2 = nX.T @ nX\n",
    "inv2 = np.linalg.inv(toInv2)\n",
    "what2 = inv2 @ nX.T @ y\n",
    "what2"
   ]
  },
  {
   "cell_type": "code",
   "execution_count": 8,
   "metadata": {},
   "outputs": [],
   "source": [
    "nY = np.sign(nX @ what2)"
   ]
  },
  {
   "cell_type": "code",
   "execution_count": 9,
   "metadata": {},
   "outputs": [
    {
     "data": {
      "text/plain": [
       "6.25"
      ]
     },
     "execution_count": 9,
     "metadata": {},
     "output_type": "execute_result"
    }
   ],
   "source": [
    "numInc = 0\n",
    "for i in range(len(y)):\n",
    "    if nY[i] != y[i]:\n",
    "        numInc += 1\n",
    "\n",
    "perInc = numInc *100 / len(y)\n",
    "perInc"
   ]
  },
  {
   "cell_type": "code",
   "execution_count": 10,
   "metadata": {},
   "outputs": [
    {
     "data": {
      "text/plain": [
       "array([0.0625, 0.0625, 0.125 , 0.0625, 0.    , 0.0625, 0.    , 0.    ])"
      ]
     },
     "execution_count": 10,
     "metadata": {},
     "output_type": "execute_result"
    }
   ],
   "source": [
    "errRate = np.empty(8)\n",
    "for i in range(0,8):\n",
    "    toAdd = X[i*16:(i+1)*16 - 1]\n",
    "    yToUse = y[i*16:(i+1)*16 - 1]\n",
    "\n",
    "    train = X\n",
    "    yTrain = y\n",
    "    for j in range(0,16):\n",
    "        train = np.delete(train, (i*16) + 15 - j, 0)\n",
    "        yTrain = np.delete(yTrain, (i*16) + 15 - j, 0)\n",
    "    \n",
    "    classWeights = np.linalg.inv(train.T @ train) @ train.T @ yTrain\n",
    "\n",
    "\n",
    "    test = toAdd\n",
    "    yTest = yToUse\n",
    "    numMissClass = 0\n",
    "    for j in range(0,len(yTest)):\n",
    "        if np.sign(test[j] @ classWeights) != yTest[j]:\n",
    "            numMissClass += 1\n",
    "    \n",
    "    errRate[i] = numMissClass / 16\n",
    "\n",
    "\n",
    "errRate"
   ]
  },
  {
   "cell_type": "code",
   "execution_count": 11,
   "metadata": {},
   "outputs": [
    {
     "data": {
      "text/plain": [
       "np.float64(0.046875)"
      ]
     },
     "execution_count": 11,
     "metadata": {},
     "output_type": "execute_result"
    }
   ],
   "source": [
    "avgErrRate = np.mean(errRate)\n",
    "avgErrRate"
   ]
  }
 ],
 "metadata": {
  "kernelspec": {
   "display_name": "Python 3",
   "language": "python",
   "name": "python3"
  },
  "language_info": {
   "codemirror_mode": {
    "name": "ipython",
    "version": 3
   },
   "file_extension": ".py",
   "mimetype": "text/x-python",
   "name": "python",
   "nbconvert_exporter": "python",
   "pygments_lexer": "ipython3",
   "version": "3.12.6"
  }
 },
 "nbformat": 4,
 "nbformat_minor": 2
}
